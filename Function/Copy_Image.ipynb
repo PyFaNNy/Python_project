{
 "cells": [
  {
   "cell_type": "code",
   "execution_count": 1,
   "id": "168be4ff-8ab2-48a3-b6f0-43105b727237",
   "metadata": {},
   "outputs": [],
   "source": [
    "from array import *\n",
    "import cv2\n",
    "import numpy as np\n"
   ]
  },
  {
   "cell_type": "code",
   "execution_count": 2,
   "id": "254e5a23-6640-4abc-9a95-3d391adca153",
   "metadata": {},
   "outputs": [
    {
     "name": "stdin",
     "output_type": "stream",
     "text": [
      " 2\n"
     ]
    }
   ],
   "source": [
    "img = cv2.imread('Image.png')\n",
    "#читаем изображение \n",
    "copy = int(input());\n",
    "#вводим вичсло нужных копий изображения\n",
    "out_array = list(img);\n",
    "#Инициализируем массив выходных копий изображения\n",
    "\n",
    "while copy > 0:\n",
    "    copy -= copy\n",
    "    out_array[copy] = img.copy();\n"
   ]
  },
  {
   "cell_type": "code",
   "execution_count": 3,
   "id": "40536908-a2e9-495e-b0af-2feeead6e1d4",
   "metadata": {},
   "outputs": [],
   "source": [
    "i = 0\n",
    "while i < len(out_array):\n",
    "    filename = 'copy.png'\n",
    "    image = cv2.imwrite(filename, out_array[0])\n",
    "    i+=1\n",
    "   "
   ]
  },
  {
   "cell_type": "code",
   "execution_count": null,
   "id": "7ac5cf23-4bc3-4173-8678-ab3046533ccf",
   "metadata": {},
   "outputs": [],
   "source": []
  }
 ],
 "metadata": {
  "kernelspec": {
   "display_name": "Python 3 (ipykernel)",
   "language": "python",
   "name": "python3"
  },
  "language_info": {
   "codemirror_mode": {
    "name": "ipython",
    "version": 3
   },
   "file_extension": ".py",
   "mimetype": "text/x-python",
   "name": "python",
   "nbconvert_exporter": "python",
   "pygments_lexer": "ipython3",
   "version": "3.10.4"
  }
 },
 "nbformat": 4,
 "nbformat_minor": 5
}
